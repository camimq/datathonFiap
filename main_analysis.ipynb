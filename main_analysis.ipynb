{
 "cells": [
  {
   "cell_type": "markdown",
   "metadata": {},
   "source": [
    "# Sobre o Projeto e Referências"
   ]
  },
  {
   "cell_type": "markdown",
   "metadata": {},
   "source": [
    "## Recursos e referências que podem ser utilizados\n",
    "\n",
    "1. [Pasta do Datathon](https://drive.google.com/drive/folders/1Z1j6uzzCOgjB2a6i3Ym1pmJRsasfm7cD)\n",
    "2. [Colab com funções, plots, cleaners; um helper para análise de dados](https://colab.research.google.com/drive/1YuRRN_j0EymrSUZnM8njWRCL-yY6Ds0f?usp=sharing#scrollTo=cZHJuEAGcU4x)\n",
    "3. [DATATHON-PASSOS-MÁGICOS.ipynb](https://colab.research.google.com/drive/1iq0U4o_I9dfB627xtgFGIfu7GRFahD_u#scrollTo=jj1m78gyRuBO)\n",
    "4. [Site Pasos Mágicos](https://pasosmagicos.org.br)"
   ]
  },
  {
   "cell_type": "markdown",
   "metadata": {},
   "source": [
    "## Sobre o Projeto\n",
    "\n",
    "### Objetivo 🎯\n",
    "O grande objetivo do Datathon é criar uma proposta analítica dos dados da **Passos Mágicos**, para demonstrar o impacto que a ONG tem sobre a comunidade que atende. A associação busca instrumentalizar o uso da educação como ferramenta para a mudança das condições de vida das crianças e jovens em vulnerabilidade social. Com base no _dataset_ de pesquisa extensiva do desenvolvimento educacional no período de 2020, 2021 e 2023, será entregue **uma proposta analítica que demontre os impactos que a ONG **Passos Mágicos** realizou sobre a performance de estudantes e, levantar eses indicadores de performance. Para demonstrar esses impactos, será criado um _dashboard_ com _storytelling_, destacando dados que podem auxiliar a Passos Mágicos a tomar as melhores decisões com base nos indicadores e conhecer o perfil dos estudantes.**\n",
    "\n",
    "### Base de dados 🎲:\n",
    "A base de dados contém informações educacionais e socioeconômicas dos estudantes da **Passos Mágicos**. Foram disponibilizadas duas bases de dados com as características de desenvolvimento educacional e questões socioeconômicas dos estudantes e um dicionário de dados com o mapeamento de todas as variáveis. Além da base de dados, alguns relatórios de pesquisa realizada pela **Passos Mágicos** também foram disponibilizados para auxiliar no conhecimento do negócio.\n",
    "\n",
    "### Entrega 🔗:\n",
    "\n",
    "- Um _dashboard_ e um relatório contendo a análise dos dados.\n",
    "- Subir o projeto em um repositório do github e compartilhar o _link_ do projeto na plataforma com os arquivos utilizados e o _link_ do _dashboard_."
   ]
  }
 ],
 "metadata": {
  "language_info": {
   "name": "python"
  }
 },
 "nbformat": 4,
 "nbformat_minor": 2
}
